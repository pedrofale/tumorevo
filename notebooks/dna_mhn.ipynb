{
 "cells": [
  {
   "cell_type": "markdown",
   "id": "1e469f88-a670-40ba-b88e-e1c6b6f54c03",
   "metadata": {},
   "source": [
    "# Mutual Hazard Networks from DNA-seq data\n",
    "We'll simulate tumors for multiple patients and generate bulk and single-cell DNA-seq data for each one, and identify patterns of mutation co-ocurrences and mutual exclisivity."
   ]
  },
  {
   "cell_type": "code",
   "execution_count": null,
   "id": "66c8fa43-9fc4-49f4-8b0f-20e30835fe60",
   "metadata": {},
   "outputs": [],
   "source": []
  },
  {
   "cell_type": "code",
   "execution_count": null,
   "id": "8dcb819d-5a48-4f50-b61e-5d1313cddce5",
   "metadata": {},
   "outputs": [],
   "source": []
  }
 ],
 "metadata": {
  "kernelspec": {
   "display_name": "Python 3 (ipykernel)",
   "language": "python",
   "name": "python3"
  },
  "language_info": {
   "codemirror_mode": {
    "name": "ipython",
    "version": 3
   },
   "file_extension": ".py",
   "mimetype": "text/x-python",
   "name": "python",
   "nbconvert_exporter": "python",
   "pygments_lexer": "ipython3",
   "version": "3.10.14"
  }
 },
 "nbformat": 4,
 "nbformat_minor": 5
}
