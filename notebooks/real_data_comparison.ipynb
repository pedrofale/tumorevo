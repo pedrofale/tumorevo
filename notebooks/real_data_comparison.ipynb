{
 "cells": [
  {
   "cell_type": "markdown",
   "id": "86936730-79aa-4eb6-b613-f1a45078b7ef",
   "metadata": {},
   "source": [
    "# Real data comparison\n",
    "Here we compute statistics on all the data modalities and compare them to real data to check that the simulated data captures important features of real data."
   ]
  },
  {
   "cell_type": "code",
   "execution_count": null,
   "id": "94ae2f76-d35a-42e8-87aa-7c7186117216",
   "metadata": {},
   "outputs": [],
   "source": []
  }
 ],
 "metadata": {
  "kernelspec": {
   "display_name": "Python 3 (ipykernel)",
   "language": "python",
   "name": "python3"
  },
  "language_info": {
   "codemirror_mode": {
    "name": "ipython",
    "version": 3
   },
   "file_extension": ".py",
   "mimetype": "text/x-python",
   "name": "python",
   "nbconvert_exporter": "python",
   "pygments_lexer": "ipython3",
   "version": "3.10.14"
  }
 },
 "nbformat": 4,
 "nbformat_minor": 5
}
