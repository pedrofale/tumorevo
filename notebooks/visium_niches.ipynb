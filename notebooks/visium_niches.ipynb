{
 "cells": [
  {
   "cell_type": "markdown",
   "id": "2a219c19-7748-4851-bf61-ffb4ba2d7632",
   "metadata": {},
   "source": [
    "# Niche identification from Visium data\n",
    "We'll simulate tumors for multiple patients and generate Visium for each one, and identify common cellular niches across patients."
   ]
  },
  {
   "cell_type": "code",
   "execution_count": null,
   "id": "9689fa70-5334-40c7-a4b0-7a7ec0c408e0",
   "metadata": {},
   "outputs": [],
   "source": []
  }
 ],
 "metadata": {
  "kernelspec": {
   "display_name": "Python 3 (ipykernel)",
   "language": "python",
   "name": "python3"
  },
  "language_info": {
   "codemirror_mode": {
    "name": "ipython",
    "version": 3
   },
   "file_extension": ".py",
   "mimetype": "text/x-python",
   "name": "python",
   "nbconvert_exporter": "python",
   "pygments_lexer": "ipython3",
   "version": "3.10.14"
  }
 },
 "nbformat": 4,
 "nbformat_minor": 5
}
