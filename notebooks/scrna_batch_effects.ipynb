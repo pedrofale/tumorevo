{
 "cells": [
  {
   "cell_type": "markdown",
   "id": "2fc935f6-f403-4def-af2c-2bd6f76e964e",
   "metadata": {},
   "source": [
    "# Technical and biological batch effects in scRNA-seq data\n",
    "We'll simulate tumors for multiple patients and generate scRNA-seq for each one in two modes: sequencing separately each patient, and multiplexing all into a single run."
   ]
  },
  {
   "cell_type": "code",
   "execution_count": null,
   "id": "cb2f2885-6256-4d3e-a87e-7032d963aa6e",
   "metadata": {},
   "outputs": [],
   "source": []
  }
 ],
 "metadata": {
  "kernelspec": {
   "display_name": "Python 3 (ipykernel)",
   "language": "python",
   "name": "python3"
  },
  "language_info": {
   "codemirror_mode": {
    "name": "ipython",
    "version": 3
   },
   "file_extension": ".py",
   "mimetype": "text/x-python",
   "name": "python",
   "nbconvert_exporter": "python",
   "pygments_lexer": "ipython3",
   "version": "3.10.14"
  }
 },
 "nbformat": 4,
 "nbformat_minor": 5
}
